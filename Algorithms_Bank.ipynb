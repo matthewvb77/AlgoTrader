{
 "cells": [
  {
   "cell_type": "code",
   "execution_count": null,
   "metadata": {},
   "outputs": [],
   "source": [
    "## Example Algorithm ##\n",
    "\n",
    "# DESCRIPTION: \n",
    "# Buy Condition: If share price drops 5% from last tranaction, buy shares worth 20% of owned funds\n",
    "# Sell Condition: If share price increases by 5% from last transaction, sell the last amount of shares that was bought\n",
    "\n",
    "# First Day, buy shares worth 20% of available funds\n",
    "    initial = next(iter(stats_sheet.values()))\n",
    "    buy_shares_by_percent_funds_owned(percent, initial, account)\n",
    "    \n",
    "# Buy/sell conditions\n",
    "\n",
    "        # example buy condition\n",
    "    if (current_price <= 0.95*share_price_in_last_trans(account)) or (current_price < cost_one_day_ago and current_price < cost_two_days_ago): \n",
    "        buy_shares_by_percent_funds_owned(percent, current_price, account)            \n",
    "        \n",
    "        # example sell condition\n",
    "    if (account['shares'] > 0) and (current_price >= 1.05*share_price_in_last_trans(account)): # wait until price is 5% up from the initial price, and sell\n",
    "        sell(num_to_sell(account), current_price, account)  \n"
   ]
  },
  {
   "cell_type": "code",
   "execution_count": null,
   "metadata": {},
   "outputs": [],
   "source": [
    "## Add your Algorithm in a module below with a description ##"
   ]
  }
 ],
 "metadata": {
  "kernelspec": {
   "display_name": "Python 3",
   "language": "python",
   "name": "python3"
  },
  "language_info": {
   "codemirror_mode": {
    "name": "ipython",
    "version": 3
   },
   "file_extension": ".py",
   "mimetype": "text/x-python",
   "name": "python",
   "nbconvert_exporter": "python",
   "pygments_lexer": "ipython3",
   "version": "3.8.5"
  }
 },
 "nbformat": 4,
 "nbformat_minor": 4
}
